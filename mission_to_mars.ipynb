{
 "cells": [
  {
   "cell_type": "code",
   "execution_count": 1,
   "metadata": {},
   "outputs": [],
   "source": [
    "from splinter import Browser\n",
    "from splinter.exceptions import ElementDoesNotExist\n",
    "from bs4 import BeautifulSoup"
   ]
  },
  {
   "cell_type": "code",
   "execution_count": 2,
   "metadata": {},
   "outputs": [],
   "source": [
    "executable_path = {'executable_path': 'chromedriver.exe'}\n",
    "browser = Browser('chrome', **executable_path, headless=False)"
   ]
  },
  {
   "cell_type": "code",
   "execution_count": 3,
   "metadata": {},
   "outputs": [],
   "source": [
    "# tell chromebrowser which site to visit\n",
    "\n",
    "url = \"https://mars.nasa.gov/news/?page=0&per_page=40&order=publish_date+desc%2Ccreated_at+desc&search=&category=19%2C165%2C184%2C204&blank_scope=Latest\"\n",
    "browser.visit(url)"
   ]
  },
  {
   "cell_type": "code",
   "execution_count": 4,
   "metadata": {},
   "outputs": [],
   "source": [
    "html = browser.html\n",
    "soup = BeautifulSoup(html, 'html.parser')"
   ]
  },
  {
   "cell_type": "code",
   "execution_count": 5,
   "metadata": {},
   "outputs": [],
   "source": [
    "title = soup.find(\"div\", class_=\"content_title\").get_text()\n",
    "news_p = soup.find(\"div\", class_=\"rollover_description_inner\").get_text()"
   ]
  },
  {
   "cell_type": "code",
   "execution_count": 6,
   "metadata": {},
   "outputs": [
    {
     "name": "stdout",
     "output_type": "stream",
     "text": [
      "News article: Small Satellite Mission of the Year\n",
      "Overview: The first interplanetary CubeSats were recognized by the engineering community with the 2019 Small Satellite Mission of the Year award.\n"
     ]
    }
   ],
   "source": [
    "print(f'News article: {title}')\n",
    "print(f'Overview: {news_p}')"
   ]
  },
  {
   "cell_type": "code",
   "execution_count": 7,
   "metadata": {},
   "outputs": [],
   "source": [
    "# get featured image\n",
    "url = \"https://www.jpl.nasa.gov/spaceimages/?search=&category=Mars\"\n",
    "browser.visit(url)"
   ]
  },
  {
   "cell_type": "code",
   "execution_count": 8,
   "metadata": {},
   "outputs": [],
   "source": [
    "html = browser.html\n",
    "soup = BeautifulSoup(html, 'html.parser')"
   ]
  },
  {
   "cell_type": "code",
   "execution_count": 9,
   "metadata": {},
   "outputs": [],
   "source": [
    "a = soup.find(\"footer\").find(\"a\")\n",
    "if a.has_attr('data-fancybox-href'):\n",
    "       relative_url = a['data-fancybox-href'] "
   ]
  },
  {
   "cell_type": "code",
   "execution_count": 10,
   "metadata": {},
   "outputs": [
    {
     "data": {
      "text/plain": [
       "'https://www.jpl.nasa.gov/spaceimages/images/mediumsize/PIA14293_ip.jpg'"
      ]
     },
     "execution_count": 10,
     "metadata": {},
     "output_type": "execute_result"
    }
   ],
   "source": [
    "featured_image_url = \"https://www.jpl.nasa.gov\" + relative_url\n",
    "featured_image_url"
   ]
  },
  {
   "cell_type": "code",
   "execution_count": 11,
   "metadata": {},
   "outputs": [],
   "source": [
    "# get news headline and paragraph from twitter\n",
    "url = \"https://twitter.com/MarsWxReport\"\n",
    "browser.visit(url)"
   ]
  },
  {
   "cell_type": "code",
   "execution_count": 12,
   "metadata": {},
   "outputs": [],
   "source": [
    "html = browser.html\n",
    "soup = BeautifulSoup(html, 'html.parser')"
   ]
  },
  {
   "cell_type": "code",
   "execution_count": 14,
   "metadata": {
    "collapsed": true
   },
   "outputs": [
    {
     "data": {
      "text/plain": [
       "[<p class=\"TweetTextSize TweetTextSize--normal js-tweet-text tweet-text\" data-aria-label-part=\"0\" lang=\"en\">InSight sol 249 (2019-08-09) low -98.8ºC (-145.8ºF) high -26.0ºC (-14.8ºF)\n",
       " winds from the SSE at 4.4 m/s (9.8 mph) gusting to 17.5 m/s (39.1 mph)\n",
       " pressure at 7.60 hPa<a class=\"twitter-timeline-link u-hidden\" data-pre-embedded=\"true\" dir=\"ltr\" href=\"https://t.co/jDOsvHTwYg\">pic.twitter.com/jDOsvHTwYg</a></p>,\n",
       " <p class=\"TweetTextSize TweetTextSize--normal js-tweet-text tweet-text\" data-aria-label-part=\"0\" lang=\"en\">InSight sol 248 (2019-08-08) low -99.6ºC (-147.3ºF) high -25.8ºC (-14.4ºF)\n",
       " winds from the SSE at 4.5 m/s (10.0 mph) gusting to 16.7 m/s (37.3 mph)\n",
       " pressure at 7.60 hPa</p>,\n",
       " <p class=\"TweetTextSize TweetTextSize--normal js-tweet-text tweet-text\" data-aria-label-part=\"0\" lang=\"en\">InSight sol 247 (2019-08-07) low -100.4ºC (-148.7ºF) high -26.5ºC (-15.8ºF)\n",
       " winds from the SSE at 4.6 m/s (10.3 mph) gusting to 16.8 m/s (37.6 mph)\n",
       " pressure at 7.60 hPa</p>,\n",
       " <p class=\"TweetTextSize TweetTextSize--normal js-tweet-text tweet-text\" data-aria-label-part=\"0\" lang=\"en\">InSight sol 246 (2019-08-06) low -99.4ºC (-146.8ºF) high -26.5ºC (-15.7ºF)\n",
       " winds from the SSE at 5.3 m/s (11.7 mph) gusting to 18.1 m/s (40.4 mph)</p>,\n",
       " <p class=\"TweetTextSize TweetTextSize--normal js-tweet-text tweet-text\" data-aria-label-part=\"0\" lang=\"en\">InSight sol 245 (2019-08-05) low -99.9ºC (-147.8ºF) high -25.6ºC (-14.1ºF)\n",
       " winds from the SSE at 4.6 m/s (10.2 mph) gusting to 17.7 m/s (39.5 mph)\n",
       " pressure at 7.60 hPa<a class=\"twitter-timeline-link u-hidden\" data-pre-embedded=\"true\" dir=\"ltr\" href=\"https://t.co/kLqykpNHtR\">pic.twitter.com/kLqykpNHtR</a></p>,\n",
       " <p class=\"TweetTextSize TweetTextSize--normal js-tweet-text tweet-text\" data-aria-label-part=\"0\" lang=\"en\">InSight sol 244 (2019-08-03) low -100.3ºC (-148.6ºF) high -27.1ºC (-16.8ºF)\n",
       " winds from the SSE at 4.4 m/s (9.9 mph) gusting to 15.9 m/s (35.6 mph)\n",
       " pressure at 7.60 hPa</p>,\n",
       " <p class=\"TweetTextSize TweetTextSize--normal js-tweet-text tweet-text\" data-aria-label-part=\"0\" lang=\"en\">InSight sol 243 (2019-08-02) low -99.8ºC (-147.7ºF) high -25.9ºC (-14.7ºF)\n",
       " winds from the SSE at 4.5 m/s (10.1 mph) gusting to 17.1 m/s (38.2 mph)\n",
       " pressure at 7.60 hPa</p>,\n",
       " <p class=\"TweetTextSize TweetTextSize--normal js-tweet-text tweet-text\" data-aria-label-part=\"0\" lang=\"en\">InSight sol 242 (2019-08-01) low -99.1ºC (-146.4ºF) high -26.1ºC (-15.0ºF)\n",
       " winds from the SW at 4.7 m/s (10.5 mph) gusting to 17.1 m/s (38.2 mph)\n",
       " pressure at 7.60 hPa</p>,\n",
       " <p class=\"TweetTextSize TweetTextSize--normal js-tweet-text tweet-text\" data-aria-label-part=\"0\" lang=\"en\">InSight sol 241 (2019-07-31) low -100.5ºC (-148.9ºF) high -26.2ºC (-15.2ºF)\n",
       " winds from the SSE at 4.6 m/s (10.2 mph) gusting to 16.2 m/s (36.2 mph)\n",
       " pressure at 7.60 hPa</p>,\n",
       " <p class=\"TweetTextSize TweetTextSize--normal js-tweet-text tweet-text\" data-aria-label-part=\"0\" lang=\"en\">InSight sol 240 (2019-07-30) low -98.5ºC (-145.2ºF) high -25.0ºC (-13.1ºF)\n",
       " winds from the SW at 4.5 m/s (10.1 mph) gusting to 15.8 m/s (35.3 mph)\n",
       " pressure at 7.60 hPa</p>,\n",
       " <p class=\"TweetTextSize TweetTextSize--normal js-tweet-text tweet-text\" data-aria-label-part=\"0\" lang=\"en\">InSight sol 239 (2019-07-29) low -98.0ºC (-144.3ºF) high -25.7ºC (-14.3ºF)\n",
       " winds from the SW at 5.3 m/s (11.8 mph) gusting to 20.4 m/s (45.5 mph)\n",
       " pressure at 7.60 hPa</p>,\n",
       " <p class=\"TweetTextSize TweetTextSize--normal js-tweet-text tweet-text\" data-aria-label-part=\"0\" lang=\"en\">Happy Landiversary to MSL. In 7 years <a class=\"twitter-atreply pretty-link js-nav\" data-mentioned-user-id=\"15473958\" dir=\"ltr\" href=\"/MarsCuriosity\"><s>@</s><b>MarsCuriosity</b></a> has traveled 23 km (14 mi) and recorded air temps ranging from  -90ºC / -130ºF to 9ºC / 48.2ºF.  Its cold on Mars but ~9% of the Sols reported temps above freezing.<a class=\"twitter-timeline-link u-hidden\" data-pre-embedded=\"true\" dir=\"ltr\" href=\"https://t.co/fcmnv4CmvY\">pic.twitter.com/fcmnv4CmvY</a></p>,\n",
       " <p class=\"TweetTextSize TweetTextSize--normal js-tweet-text tweet-text\" data-aria-label-part=\"0\" lang=\"en\">Mars. Freakin. Helicopter. <img alt=\"🚁\" aria-label=\"Emoji: Helicopter\" class=\"Emoji Emoji--forText\" draggable=\"false\" src=\"https://abs.twimg.com/emoji/v2/72x72/1f681.png\" title=\"Helicopter\"/><img alt=\"😍\" aria-label=\"Emoji: Smiling face with heart-shaped eyes\" class=\"Emoji Emoji--forText\" draggable=\"false\" src=\"https://abs.twimg.com/emoji/v2/72x72/1f60d.png\" title=\"Smiling face with heart-shaped eyes\"/><img alt=\"🤩\" aria-label=\"Emoji: Star-struck\" class=\"Emoji Emoji--forText\" draggable=\"false\" src=\"https://abs.twimg.com/emoji/v2/72x72/1f929.png\" title=\"Star-struck\"/> <a class=\"twitter-atreply pretty-link js-nav\" data-mentioned-user-id=\"19802879\" dir=\"ltr\" href=\"/NASAJPL\"><s>@</s><b>NASAJPL</b></a> \n",
       " (It’s sideways on the gold colored table, 2 sets of black blades parallel to each other to the left, two feet sticking up and out to the right, main body is a silver rectangular box in between them, first picture has a chair for scale)<a class=\"twitter-timeline-link u-hidden\" data-pre-embedded=\"true\" dir=\"ltr\" href=\"https://t.co/CQgyggaNd7\">pic.twitter.com/CQgyggaNd7</a></p>,\n",
       " <p class=\"TweetTextSize TweetTextSize--normal js-tweet-text tweet-text\" data-aria-label-part=\"0\" lang=\"en\">Um <a class=\"twitter-atreply pretty-link js-nav\" data-mentioned-user-id=\"19802879\" dir=\"ltr\" href=\"/NASAJPL\"><s>@</s><b>NASAJPL</b></a>? You might want to check High Bay 1. Looks like Mars2020 is in my driveway. A little ISS is orbiting my front hall too.\n",
       " \n",
       " You can park <a class=\"twitter-atreply pretty-link js-nav\" data-mentioned-user-id=\"15473958\" dir=\"ltr\" href=\"/MarsCuriosity\"><s>@</s><b>MarsCuriosity</b></a>’s twin in your garage along with 17 other spacecraft exploring Earth, Mars and beyond with SpacecraftAR <a class=\"twitter-timeline-link\" data-expanded-url=\"https://twitter.com/nasa_eyes/status/1157014939153776640\" dir=\"ltr\" href=\"https://t.co/leTuDFXC4T\" rel=\"nofollow noopener\" target=\"_blank\" title=\"https://twitter.com/nasa_eyes/status/1157014939153776640\"><span class=\"tco-ellipsis\"></span><span class=\"invisible\">https://</span><span class=\"js-display-url\">twitter.com/nasa_eyes/stat</span><span class=\"invisible\">us/1157014939153776640</span><span class=\"tco-ellipsis\"><span class=\"invisible\"> </span>…</span></a><a class=\"twitter-timeline-link u-hidden\" data-pre-embedded=\"true\" dir=\"ltr\" href=\"https://t.co/1Ua2U70rVK\">pic.twitter.com/1Ua2U70rVK</a></p>,\n",
       " <p class=\"TweetTextSize TweetTextSize--normal js-tweet-text tweet-text\" data-aria-label-part=\"0\" lang=\"en\">Do you have a passion for sharing the excitement of spaceflight?  <a class=\"twitter-atreply pretty-link js-nav\" data-mentioned-user-id=\"19802879\" dir=\"ltr\" href=\"/NASAJPL\"><s>@</s><b>NASAJPL</b></a> is in need of an on-air commentator for our live broadcasts during critical events (<a class=\"twitter-hashtag pretty-link js-nav\" data-query-source=\"hashtag_click\" dir=\"ltr\" href=\"/hashtag/Mars2020?src=hash\"><s>#</s><b>Mars2020</b></a> EDL). Share the excitement and drama of spaceflight as it unfolds in real-time!\n",
       " \n",
       " <a class=\"twitter-timeline-link\" data-expanded-url=\"https://jpl.jobs/jobs/2019-10860-Video-Producer-Commentator\" dir=\"ltr\" href=\"https://t.co/JFg02IoPcF\" rel=\"nofollow noopener\" target=\"_blank\" title=\"https://jpl.jobs/jobs/2019-10860-Video-Producer-Commentator\"><span class=\"tco-ellipsis\"></span><span class=\"invisible\">https://</span><span class=\"js-display-url\">jpl.jobs/jobs/2019-1086</span><span class=\"invisible\">0-Video-Producer-Commentator</span><span class=\"tco-ellipsis\"><span class=\"invisible\"> </span>…</span></a></p>,\n",
       " <p class=\"TweetTextSize TweetTextSize--normal js-tweet-text tweet-text\" data-aria-label-part=\"0\" lang=\"en\">InSight sol 233 (2019-07-23) low -98.8ºC (-145.9ºF) high -25.7ºC (-14.2ºF)\n",
       " winds from the SE at 4.6 m/s (10.2 mph) gusting to 16.2 m/s (36.2 mph)\n",
       " pressure at 7.60 hPa<a class=\"twitter-timeline-link u-hidden\" data-pre-embedded=\"true\" dir=\"ltr\" href=\"https://t.co/ksOXPg28yb\">pic.twitter.com/ksOXPg28yb</a></p>,\n",
       " <p class=\"TweetTextSize TweetTextSize--normal js-tweet-text tweet-text\" data-aria-label-part=\"0\" lang=\"en\">InSight sol 230 (2019-07-20) low -99.3ºC (-146.8ºF) high -26.1ºC (-15.0ºF)\n",
       " winds from the SE at 4.0 m/s (9.0 mph) gusting to 15.2 m/s (34.1 mph)\n",
       " pressure at 7.60 hPa<a class=\"twitter-timeline-link u-hidden\" data-pre-embedded=\"true\" dir=\"ltr\" href=\"https://t.co/fP2WO4xxjh\">pic.twitter.com/fP2WO4xxjh</a></p>,\n",
       " <p class=\"TweetTextSize TweetTextSize--normal js-tweet-text tweet-text\" data-aria-label-part=\"4\" lang=\"en\">Apollo 11 returned home safely 50 years ago today thanks in part to some quick thinking meteorologists and the people who trusted them<a class=\"twitter-timeline-link u-hidden\" data-expanded-url=\"https://twitter.com/rtphokie/status/1154098438205784064\" dir=\"ltr\" href=\"https://t.co/Ew3Nm4ebRW\" rel=\"nofollow noopener\" target=\"_blank\" title=\"https://twitter.com/rtphokie/status/1154098438205784064\"><span class=\"tco-ellipsis\"></span><span class=\"invisible\">https://</span><span class=\"js-display-url\">twitter.com/rtphokie/statu</span><span class=\"invisible\">s/1154098438205784064</span><span class=\"tco-ellipsis\"><span class=\"invisible\"> </span>…</span></a></p>,\n",
       " <p class=\"TweetTextSize TweetTextSize--normal js-tweet-text tweet-text\" data-aria-label-part=\"0\" lang=\"en\">InSight sol 229 (2019-07-19) low -99.2ºC (-146.6ºF) high -24.7ºC (-12.4ºF)\n",
       " winds from the SW at 4.0 m/s (9.0 mph) gusting to 14.8 m/s (33.0 mph)\n",
       " pressure at 7.60 hPa<a class=\"twitter-timeline-link u-hidden\" data-pre-embedded=\"true\" dir=\"ltr\" href=\"https://t.co/WEjGzvCEhb\">pic.twitter.com/WEjGzvCEhb</a></p>,\n",
       " <p class=\"TweetTextSize TweetTextSize--normal js-tweet-text tweet-text\" data-aria-label-part=\"0\" lang=\"en\">InSight sol 228 (2019-07-18) low -98.7ºC (-145.7ºF) high -25.0ºC (-13.1ºF)\n",
       " winds from the SSE at 4.2 m/s (9.3 mph) gusting to 14.5 m/s (32.4 mph)\n",
       " pressure at 7.60 hPa</p>]"
      ]
     },
     "execution_count": 14,
     "metadata": {},
     "output_type": "execute_result"
    }
   ],
   "source": [
    "weather_rs = soup.find_all('p', class_=\"TweetTextSize TweetTextSize--normal js-tweet-text tweet-text\")\n"
   ]
  },
  {
   "cell_type": "code",
   "execution_count": 23,
   "metadata": {
    "collapsed": true
   },
   "outputs": [
    {
     "name": "stdout",
     "output_type": "stream",
     "text": [
      "<p class=\"TweetTextSize TweetTextSize--normal js-tweet-text tweet-text\" data-aria-label-part=\"0\" lang=\"en\">InSight sol 249 (2019-08-09) low -98.8ºC (-145.8ºF) high -26.0ºC (-14.8ºF)\n",
      "winds from the SSE at 4.4 m/s (9.8 mph) gusting to 17.5 m/s (39.1 mph)\n",
      "pressure at 7.60 hPa<a class=\"twitter-timeline-link u-hidden\" data-pre-embedded=\"true\" dir=\"ltr\" href=\"https://t.co/jDOsvHTwYg\">pic.twitter.com/jDOsvHTwYg</a></p>\n",
      " \n",
      " \n",
      "InSight sol 249 (2019-08-09) low -98.8ºC (-145.8ºF) high -26.0ºC (-14.8ºF)\n",
      "winds from the SSE at 4.4 m/s (9.8 mph) gusting to 17.5 m/s (39.1 mph)\n",
      "pressure at 7.60 hPapic.twitter.com/jDOsvHTwYg\n",
      "Appending...\n",
      "<p class=\"TweetTextSize TweetTextSize--normal js-tweet-text tweet-text\" data-aria-label-part=\"0\" lang=\"en\">InSight sol 248 (2019-08-08) low -99.6ºC (-147.3ºF) high -25.8ºC (-14.4ºF)\n",
      "winds from the SSE at 4.5 m/s (10.0 mph) gusting to 16.7 m/s (37.3 mph)\n",
      "pressure at 7.60 hPa</p>\n",
      " \n",
      " \n",
      "InSight sol 248 (2019-08-08) low -99.6ºC (-147.3ºF) high -25.8ºC (-14.4ºF)\n",
      "winds from the SSE at 4.5 m/s (10.0 mph) gusting to 16.7 m/s (37.3 mph)\n",
      "pressure at 7.60 hPa\n",
      "Appending...\n",
      "<p class=\"TweetTextSize TweetTextSize--normal js-tweet-text tweet-text\" data-aria-label-part=\"0\" lang=\"en\">InSight sol 247 (2019-08-07) low -100.4ºC (-148.7ºF) high -26.5ºC (-15.8ºF)\n",
      "winds from the SSE at 4.6 m/s (10.3 mph) gusting to 16.8 m/s (37.6 mph)\n",
      "pressure at 7.60 hPa</p>\n",
      " \n",
      " \n",
      "InSight sol 247 (2019-08-07) low -100.4ºC (-148.7ºF) high -26.5ºC (-15.8ºF)\n",
      "winds from the SSE at 4.6 m/s (10.3 mph) gusting to 16.8 m/s (37.6 mph)\n",
      "pressure at 7.60 hPa\n",
      "Appending...\n",
      "<p class=\"TweetTextSize TweetTextSize--normal js-tweet-text tweet-text\" data-aria-label-part=\"0\" lang=\"en\">InSight sol 246 (2019-08-06) low -99.4ºC (-146.8ºF) high -26.5ºC (-15.7ºF)\n",
      "winds from the SSE at 5.3 m/s (11.7 mph) gusting to 18.1 m/s (40.4 mph)</p>\n",
      " \n",
      " \n",
      "InSight sol 246 (2019-08-06) low -99.4ºC (-146.8ºF) high -26.5ºC (-15.7ºF)\n",
      "winds from the SSE at 5.3 m/s (11.7 mph) gusting to 18.1 m/s (40.4 mph)\n",
      "Appending...\n",
      "<p class=\"TweetTextSize TweetTextSize--normal js-tweet-text tweet-text\" data-aria-label-part=\"0\" lang=\"en\">InSight sol 245 (2019-08-05) low -99.9ºC (-147.8ºF) high -25.6ºC (-14.1ºF)\n",
      "winds from the SSE at 4.6 m/s (10.2 mph) gusting to 17.7 m/s (39.5 mph)\n",
      "pressure at 7.60 hPa<a class=\"twitter-timeline-link u-hidden\" data-pre-embedded=\"true\" dir=\"ltr\" href=\"https://t.co/kLqykpNHtR\">pic.twitter.com/kLqykpNHtR</a></p>\n",
      " \n",
      " \n",
      "InSight sol 245 (2019-08-05) low -99.9ºC (-147.8ºF) high -25.6ºC (-14.1ºF)\n",
      "winds from the SSE at 4.6 m/s (10.2 mph) gusting to 17.7 m/s (39.5 mph)\n",
      "pressure at 7.60 hPapic.twitter.com/kLqykpNHtR\n",
      "Appending...\n",
      "<p class=\"TweetTextSize TweetTextSize--normal js-tweet-text tweet-text\" data-aria-label-part=\"0\" lang=\"en\">InSight sol 244 (2019-08-03) low -100.3ºC (-148.6ºF) high -27.1ºC (-16.8ºF)\n",
      "winds from the SSE at 4.4 m/s (9.9 mph) gusting to 15.9 m/s (35.6 mph)\n",
      "pressure at 7.60 hPa</p>\n",
      " \n",
      " \n",
      "InSight sol 244 (2019-08-03) low -100.3ºC (-148.6ºF) high -27.1ºC (-16.8ºF)\n",
      "winds from the SSE at 4.4 m/s (9.9 mph) gusting to 15.9 m/s (35.6 mph)\n",
      "pressure at 7.60 hPa\n",
      "Appending...\n",
      "<p class=\"TweetTextSize TweetTextSize--normal js-tweet-text tweet-text\" data-aria-label-part=\"0\" lang=\"en\">InSight sol 243 (2019-08-02) low -99.8ºC (-147.7ºF) high -25.9ºC (-14.7ºF)\n",
      "winds from the SSE at 4.5 m/s (10.1 mph) gusting to 17.1 m/s (38.2 mph)\n",
      "pressure at 7.60 hPa</p>\n",
      " \n",
      " \n",
      "InSight sol 243 (2019-08-02) low -99.8ºC (-147.7ºF) high -25.9ºC (-14.7ºF)\n",
      "winds from the SSE at 4.5 m/s (10.1 mph) gusting to 17.1 m/s (38.2 mph)\n",
      "pressure at 7.60 hPa\n",
      "Appending...\n",
      "<p class=\"TweetTextSize TweetTextSize--normal js-tweet-text tweet-text\" data-aria-label-part=\"0\" lang=\"en\">InSight sol 242 (2019-08-01) low -99.1ºC (-146.4ºF) high -26.1ºC (-15.0ºF)\n",
      "winds from the SW at 4.7 m/s (10.5 mph) gusting to 17.1 m/s (38.2 mph)\n",
      "pressure at 7.60 hPa</p>\n",
      " \n",
      " \n",
      "InSight sol 242 (2019-08-01) low -99.1ºC (-146.4ºF) high -26.1ºC (-15.0ºF)\n",
      "winds from the SW at 4.7 m/s (10.5 mph) gusting to 17.1 m/s (38.2 mph)\n",
      "pressure at 7.60 hPa\n",
      "Appending...\n",
      "<p class=\"TweetTextSize TweetTextSize--normal js-tweet-text tweet-text\" data-aria-label-part=\"0\" lang=\"en\">InSight sol 241 (2019-07-31) low -100.5ºC (-148.9ºF) high -26.2ºC (-15.2ºF)\n",
      "winds from the SSE at 4.6 m/s (10.2 mph) gusting to 16.2 m/s (36.2 mph)\n",
      "pressure at 7.60 hPa</p>\n",
      " \n",
      " \n",
      "InSight sol 241 (2019-07-31) low -100.5ºC (-148.9ºF) high -26.2ºC (-15.2ºF)\n",
      "winds from the SSE at 4.6 m/s (10.2 mph) gusting to 16.2 m/s (36.2 mph)\n",
      "pressure at 7.60 hPa\n",
      "Appending...\n",
      "<p class=\"TweetTextSize TweetTextSize--normal js-tweet-text tweet-text\" data-aria-label-part=\"0\" lang=\"en\">InSight sol 240 (2019-07-30) low -98.5ºC (-145.2ºF) high -25.0ºC (-13.1ºF)\n",
      "winds from the SW at 4.5 m/s (10.1 mph) gusting to 15.8 m/s (35.3 mph)\n",
      "pressure at 7.60 hPa</p>\n",
      " \n",
      " \n",
      "InSight sol 240 (2019-07-30) low -98.5ºC (-145.2ºF) high -25.0ºC (-13.1ºF)\n",
      "winds from the SW at 4.5 m/s (10.1 mph) gusting to 15.8 m/s (35.3 mph)\n",
      "pressure at 7.60 hPa\n",
      "Appending...\n",
      "<p class=\"TweetTextSize TweetTextSize--normal js-tweet-text tweet-text\" data-aria-label-part=\"0\" lang=\"en\">InSight sol 239 (2019-07-29) low -98.0ºC (-144.3ºF) high -25.7ºC (-14.3ºF)\n",
      "winds from the SW at 5.3 m/s (11.8 mph) gusting to 20.4 m/s (45.5 mph)\n",
      "pressure at 7.60 hPa</p>\n",
      " \n",
      " \n",
      "InSight sol 239 (2019-07-29) low -98.0ºC (-144.3ºF) high -25.7ºC (-14.3ºF)\n",
      "winds from the SW at 5.3 m/s (11.8 mph) gusting to 20.4 m/s (45.5 mph)\n",
      "pressure at 7.60 hPa\n",
      "Appending...\n",
      "<p class=\"TweetTextSize TweetTextSize--normal js-tweet-text tweet-text\" data-aria-label-part=\"0\" lang=\"en\">Happy Landiversary to MSL. In 7 years <a class=\"twitter-atreply pretty-link js-nav\" data-mentioned-user-id=\"15473958\" dir=\"ltr\" href=\"/MarsCuriosity\"><s>@</s><b>MarsCuriosity</b></a> has traveled 23 km (14 mi) and recorded air temps ranging from  -90ºC / -130ºF to 9ºC / 48.2ºF.  Its cold on Mars but ~9% of the Sols reported temps above freezing.<a class=\"twitter-timeline-link u-hidden\" data-pre-embedded=\"true\" dir=\"ltr\" href=\"https://t.co/fcmnv4CmvY\">pic.twitter.com/fcmnv4CmvY</a></p>\n",
      " \n",
      " \n",
      "Happy Landiversary to MSL. In 7 years @MarsCuriosity has traveled 23 km (14 mi) and recorded air temps ranging from  -90ºC / -130ºF to 9ºC / 48.2ºF.  Its cold on Mars but ~9% of the Sols reported temps above freezing.pic.twitter.com/fcmnv4CmvY\n",
      "Not appending\n",
      "<p class=\"TweetTextSize TweetTextSize--normal js-tweet-text tweet-text\" data-aria-label-part=\"0\" lang=\"en\">Mars. Freakin. Helicopter. <img alt=\"🚁\" aria-label=\"Emoji: Helicopter\" class=\"Emoji Emoji--forText\" draggable=\"false\" src=\"https://abs.twimg.com/emoji/v2/72x72/1f681.png\" title=\"Helicopter\"/><img alt=\"😍\" aria-label=\"Emoji: Smiling face with heart-shaped eyes\" class=\"Emoji Emoji--forText\" draggable=\"false\" src=\"https://abs.twimg.com/emoji/v2/72x72/1f60d.png\" title=\"Smiling face with heart-shaped eyes\"/><img alt=\"🤩\" aria-label=\"Emoji: Star-struck\" class=\"Emoji Emoji--forText\" draggable=\"false\" src=\"https://abs.twimg.com/emoji/v2/72x72/1f929.png\" title=\"Star-struck\"/> <a class=\"twitter-atreply pretty-link js-nav\" data-mentioned-user-id=\"19802879\" dir=\"ltr\" href=\"/NASAJPL\"><s>@</s><b>NASAJPL</b></a> \n",
      "(It’s sideways on the gold colored table, 2 sets of black blades parallel to each other to the left, two feet sticking up and out to the right, main body is a silver rectangular box in between them, first picture has a chair for scale)<a class=\"twitter-timeline-link u-hidden\" data-pre-embedded=\"true\" dir=\"ltr\" href=\"https://t.co/CQgyggaNd7\">pic.twitter.com/CQgyggaNd7</a></p>\n",
      " \n",
      " \n",
      "Mars. Freakin. Helicopter.  @NASAJPL \n",
      "(It’s sideways on the gold colored table, 2 sets of black blades parallel to each other to the left, two feet sticking up and out to the right, main body is a silver rectangular box in between them, first picture has a chair for scale)pic.twitter.com/CQgyggaNd7\n",
      "Not appending\n",
      "<p class=\"TweetTextSize TweetTextSize--normal js-tweet-text tweet-text\" data-aria-label-part=\"0\" lang=\"en\">Um <a class=\"twitter-atreply pretty-link js-nav\" data-mentioned-user-id=\"19802879\" dir=\"ltr\" href=\"/NASAJPL\"><s>@</s><b>NASAJPL</b></a>? You might want to check High Bay 1. Looks like Mars2020 is in my driveway. A little ISS is orbiting my front hall too.\n",
      "\n",
      "You can park <a class=\"twitter-atreply pretty-link js-nav\" data-mentioned-user-id=\"15473958\" dir=\"ltr\" href=\"/MarsCuriosity\"><s>@</s><b>MarsCuriosity</b></a>’s twin in your garage along with 17 other spacecraft exploring Earth, Mars and beyond with SpacecraftAR <a class=\"twitter-timeline-link\" data-expanded-url=\"https://twitter.com/nasa_eyes/status/1157014939153776640\" dir=\"ltr\" href=\"https://t.co/leTuDFXC4T\" rel=\"nofollow noopener\" target=\"_blank\" title=\"https://twitter.com/nasa_eyes/status/1157014939153776640\"><span class=\"tco-ellipsis\"></span><span class=\"invisible\">https://</span><span class=\"js-display-url\">twitter.com/nasa_eyes/stat</span><span class=\"invisible\">us/1157014939153776640</span><span class=\"tco-ellipsis\"><span class=\"invisible\"> </span>…</span></a><a class=\"twitter-timeline-link u-hidden\" data-pre-embedded=\"true\" dir=\"ltr\" href=\"https://t.co/1Ua2U70rVK\">pic.twitter.com/1Ua2U70rVK</a></p>\n",
      " \n",
      " \n",
      "Um @NASAJPL? You might want to check High Bay 1. Looks like Mars2020 is in my driveway. A little ISS is orbiting my front hall too.\n",
      "\n",
      "You can park @MarsCuriosity’s twin in your garage along with 17 other spacecraft exploring Earth, Mars and beyond with SpacecraftAR https://twitter.com/nasa_eyes/status/1157014939153776640 …pic.twitter.com/1Ua2U70rVK\n",
      "Not appending\n",
      "<p class=\"TweetTextSize TweetTextSize--normal js-tweet-text tweet-text\" data-aria-label-part=\"0\" lang=\"en\">Do you have a passion for sharing the excitement of spaceflight?  <a class=\"twitter-atreply pretty-link js-nav\" data-mentioned-user-id=\"19802879\" dir=\"ltr\" href=\"/NASAJPL\"><s>@</s><b>NASAJPL</b></a> is in need of an on-air commentator for our live broadcasts during critical events (<a class=\"twitter-hashtag pretty-link js-nav\" data-query-source=\"hashtag_click\" dir=\"ltr\" href=\"/hashtag/Mars2020?src=hash\"><s>#</s><b>Mars2020</b></a> EDL). Share the excitement and drama of spaceflight as it unfolds in real-time!\n",
      "\n",
      "<a class=\"twitter-timeline-link\" data-expanded-url=\"https://jpl.jobs/jobs/2019-10860-Video-Producer-Commentator\" dir=\"ltr\" href=\"https://t.co/JFg02IoPcF\" rel=\"nofollow noopener\" target=\"_blank\" title=\"https://jpl.jobs/jobs/2019-10860-Video-Producer-Commentator\"><span class=\"tco-ellipsis\"></span><span class=\"invisible\">https://</span><span class=\"js-display-url\">jpl.jobs/jobs/2019-1086</span><span class=\"invisible\">0-Video-Producer-Commentator</span><span class=\"tco-ellipsis\"><span class=\"invisible\"> </span>…</span></a></p>\n",
      " \n",
      " \n",
      "Do you have a passion for sharing the excitement of spaceflight?  @NASAJPL is in need of an on-air commentator for our live broadcasts during critical events (#Mars2020 EDL). Share the excitement and drama of spaceflight as it unfolds in real-time!\n",
      "\n",
      "https://jpl.jobs/jobs/2019-10860-Video-Producer-Commentator …\n",
      "Not appending\n",
      "<p class=\"TweetTextSize TweetTextSize--normal js-tweet-text tweet-text\" data-aria-label-part=\"0\" lang=\"en\">InSight sol 233 (2019-07-23) low -98.8ºC (-145.9ºF) high -25.7ºC (-14.2ºF)\n",
      "winds from the SE at 4.6 m/s (10.2 mph) gusting to 16.2 m/s (36.2 mph)\n",
      "pressure at 7.60 hPa<a class=\"twitter-timeline-link u-hidden\" data-pre-embedded=\"true\" dir=\"ltr\" href=\"https://t.co/ksOXPg28yb\">pic.twitter.com/ksOXPg28yb</a></p>\n",
      " \n",
      " \n",
      "InSight sol 233 (2019-07-23) low -98.8ºC (-145.9ºF) high -25.7ºC (-14.2ºF)\n",
      "winds from the SE at 4.6 m/s (10.2 mph) gusting to 16.2 m/s (36.2 mph)\n",
      "pressure at 7.60 hPapic.twitter.com/ksOXPg28yb\n",
      "Appending...\n",
      "<p class=\"TweetTextSize TweetTextSize--normal js-tweet-text tweet-text\" data-aria-label-part=\"0\" lang=\"en\">InSight sol 230 (2019-07-20) low -99.3ºC (-146.8ºF) high -26.1ºC (-15.0ºF)\n",
      "winds from the SE at 4.0 m/s (9.0 mph) gusting to 15.2 m/s (34.1 mph)\n",
      "pressure at 7.60 hPa<a class=\"twitter-timeline-link u-hidden\" data-pre-embedded=\"true\" dir=\"ltr\" href=\"https://t.co/fP2WO4xxjh\">pic.twitter.com/fP2WO4xxjh</a></p>\n",
      " \n",
      " \n",
      "InSight sol 230 (2019-07-20) low -99.3ºC (-146.8ºF) high -26.1ºC (-15.0ºF)\n",
      "winds from the SE at 4.0 m/s (9.0 mph) gusting to 15.2 m/s (34.1 mph)\n",
      "pressure at 7.60 hPapic.twitter.com/fP2WO4xxjh\n",
      "Appending...\n",
      "<p class=\"TweetTextSize TweetTextSize--normal js-tweet-text tweet-text\" data-aria-label-part=\"4\" lang=\"en\">Apollo 11 returned home safely 50 years ago today thanks in part to some quick thinking meteorologists and the people who trusted them<a class=\"twitter-timeline-link u-hidden\" data-expanded-url=\"https://twitter.com/rtphokie/status/1154098438205784064\" dir=\"ltr\" href=\"https://t.co/Ew3Nm4ebRW\" rel=\"nofollow noopener\" target=\"_blank\" title=\"https://twitter.com/rtphokie/status/1154098438205784064\"><span class=\"tco-ellipsis\"></span><span class=\"invisible\">https://</span><span class=\"js-display-url\">twitter.com/rtphokie/statu</span><span class=\"invisible\">s/1154098438205784064</span><span class=\"tco-ellipsis\"><span class=\"invisible\"> </span>…</span></a></p>\n",
      " \n",
      " \n",
      "Apollo 11 returned home safely 50 years ago today thanks in part to some quick thinking meteorologists and the people who trusted themhttps://twitter.com/rtphokie/status/1154098438205784064 …\n",
      "Not appending\n",
      "<p class=\"TweetTextSize TweetTextSize--normal js-tweet-text tweet-text\" data-aria-label-part=\"0\" lang=\"en\">InSight sol 229 (2019-07-19) low -99.2ºC (-146.6ºF) high -24.7ºC (-12.4ºF)\n",
      "winds from the SW at 4.0 m/s (9.0 mph) gusting to 14.8 m/s (33.0 mph)\n",
      "pressure at 7.60 hPa<a class=\"twitter-timeline-link u-hidden\" data-pre-embedded=\"true\" dir=\"ltr\" href=\"https://t.co/WEjGzvCEhb\">pic.twitter.com/WEjGzvCEhb</a></p>\n",
      " \n",
      " \n",
      "InSight sol 229 (2019-07-19) low -99.2ºC (-146.6ºF) high -24.7ºC (-12.4ºF)\n",
      "winds from the SW at 4.0 m/s (9.0 mph) gusting to 14.8 m/s (33.0 mph)\n",
      "pressure at 7.60 hPapic.twitter.com/WEjGzvCEhb\n",
      "Appending...\n",
      "<p class=\"TweetTextSize TweetTextSize--normal js-tweet-text tweet-text\" data-aria-label-part=\"0\" lang=\"en\">InSight sol 228 (2019-07-18) low -98.7ºC (-145.7ºF) high -25.0ºC (-13.1ºF)\n",
      "winds from the SSE at 4.2 m/s (9.3 mph) gusting to 14.5 m/s (32.4 mph)\n",
      "pressure at 7.60 hPa</p>\n",
      " \n",
      " \n",
      "InSight sol 228 (2019-07-18) low -98.7ºC (-145.7ºF) high -25.0ºC (-13.1ºF)\n",
      "winds from the SSE at 4.2 m/s (9.3 mph) gusting to 14.5 m/s (32.4 mph)\n",
      "pressure at 7.60 hPa\n",
      "Appending...\n"
     ]
    }
   ],
   "source": [
    "tweets = []\n",
    "for w in weather_rs:\n",
    "    tweet = w.get_text()\n",
    "    if \"InSight\" in tweet:\n",
    "        tweets.append(tweet)"
   ]
  },
  {
   "cell_type": "code",
   "execution_count": 25,
   "metadata": {},
   "outputs": [
    {
     "data": {
      "text/plain": [
       "'InSight sol 249 (2019-08-09) low -98.8ºC (-145.8ºF) high -26.0ºC (-14.8ºF) winds from the SSE at 4.4 m/s (9.8 mph) gusting to 17.5 m/s (39.1 mph) pressure at 7.60 hPa'"
      ]
     },
     "execution_count": 25,
     "metadata": {},
     "output_type": "execute_result"
    }
   ],
   "source": [
    "mw = tweets[0].replace('\\n', ' ').replace('Insight s', 'S')\n",
    "mars_weather = mw.split('pic', 1)[0]\n",
    "mars_weather\n"
   ]
  },
  {
   "cell_type": "code",
   "execution_count": 26,
   "metadata": {},
   "outputs": [],
   "source": [
    "# get Mars facts\n",
    "url = \"https://space-facts.com/mars/\"\n",
    "browser.visit(url)"
   ]
  },
  {
   "cell_type": "code",
   "execution_count": 27,
   "metadata": {},
   "outputs": [],
   "source": [
    "html = browser.html\n",
    "soup = BeautifulSoup(html, 'html.parser')"
   ]
  },
  {
   "cell_type": "code",
   "execution_count": 37,
   "metadata": {},
   "outputs": [
    {
     "data": {
      "text/plain": [
       "<span class=\"mars-s\">6,779 km</span>"
      ]
     },
     "execution_count": 37,
     "metadata": {},
     "output_type": "execute_result"
    }
   ],
   "source": [
    "t = soup.find(\"table\") \n",
    "mars_stuff = t.find_all(\"span\", class_=\"mars-s\")"
   ]
  },
  {
   "cell_type": "code",
   "execution_count": 41,
   "metadata": {},
   "outputs": [
    {
     "data": {
      "text/plain": [
       "[<span class=\"mars-s\">6,779 km</span>,\n",
       " <span class=\"mars-s\">6.39 × 10^23 kg</span>,\n",
       " <span class=\"mars-s\">2</span>,\n",
       " <span class=\"mars-s\">227,943,824 km</span>,\n",
       " <span class=\"mars-s\">687 Earth days</span>,\n",
       " <span class=\"mars-s\">-153 to 20 °C</span>]"
      ]
     },
     "execution_count": 41,
     "metadata": {},
     "output_type": "execute_result"
    }
   ],
   "source": [
    "mars_stuff"
   ]
  },
  {
   "cell_type": "code",
   "execution_count": 42,
   "metadata": {},
   "outputs": [],
   "source": [
    "mars_dict = {\"Diameter\": mars_stuff[0].get_text(),\n",
    "             \"Mass\" : mars_stuff[1].get_text(),\n",
    "             \"Moons\" : mars_stuff[2].get_text(),\n",
    "             \"Distance from Sun\" : mars_stuff[3].get_text(),\n",
    "             \"Length of Year\" : mars_stuff[4].get_text(),\n",
    "             \"Temperature\" : mars_stuff[5].get_text()}"
   ]
  },
  {
   "cell_type": "code",
   "execution_count": 45,
   "metadata": {},
   "outputs": [
    {
     "data": {
      "text/plain": [
       "{'Diameter': '6,779 km',\n",
       " 'Mass': '6.39 × 10^23 kg',\n",
       " 'Moons': '2',\n",
       " 'Distance from Sun': '227,943,824 km',\n",
       " 'Length of Year': '687 Earth days',\n",
       " 'Temperature': '-153 to 20 °C'}"
      ]
     },
     "execution_count": 45,
     "metadata": {},
     "output_type": "execute_result"
    }
   ],
   "source": [
    "mars_dict"
   ]
  },
  {
   "cell_type": "code",
   "execution_count": 51,
   "metadata": {},
   "outputs": [],
   "source": [
    "import pandas as pd\n",
    "mars_df = pd.Series(mars_dict).to_frame()\n",
    "# mars_df = pd.DataFrame.from_dict(mars_dict, index=[0])\n",
    "m = mars_df.to_html(na_rep = \"\")"
   ]
  },
  {
   "cell_type": "code",
   "execution_count": 52,
   "metadata": {},
   "outputs": [
    {
     "data": {
      "text/plain": [
       "'<table border=\"1\" class=\"dataframe\">   <thead>     <tr style=\"text-align: right;\">       <th></th>       <th>0</th>     </tr>   </thead>   <tbody>     <tr>       <th>Diameter</th>       <td>6,779 km</td>     </tr>     <tr>       <th>Mass</th>       <td>6.39 × 10^23 kg</td>     </tr>     <tr>       <th>Moons</th>       <td>2</td>     </tr>     <tr>       <th>Distance from Sun</th>       <td>227,943,824 km</td>     </tr>     <tr>       <th>Length of Year</th>       <td>687 Earth days</td>     </tr>     <tr>       <th>Temperature</th>       <td>-153 to 20 °C</td>     </tr>   </tbody> </table>'"
      ]
     },
     "execution_count": 52,
     "metadata": {},
     "output_type": "execute_result"
    }
   ],
   "source": [
    "# create an html table for the mars facts\n",
    "mars_html_table = m.replace('\\n', ' ')\n",
    "mars_html_table"
   ]
  },
  {
   "cell_type": "code",
   "execution_count": null,
   "metadata": {},
   "outputs": [],
   "source": [
    "# Set hemisphere image dictionaries\n",
    "hemisphere_image_urls = [\n",
    "    {\"title\" : \"Cerberus Hemisphere\", \"img_url\" : \"https://astropedia.astrogeology.usgs.gov/download/Mars/Viking/cerberus_enhanced.tif/full.jpg\"},\n",
    "    {\"title\" : \"Schiaparelli Hemisphere\", \"img_url\" : \"https://astropedia.astrogeology.usgs.gov/download/Mars/Viking/schiaparelli_enhanced.tif/full.jpg\"},\n",
    "    {\"title\" : \"Syrtis Major Hemisphere\", \"img_url\" : \"https://astropedia.astrogeology.usgs.gov/download/Mars/Viking/syrtis_major_enhanced.tif/full.jpg\"},\n",
    "    {\"title\" : \"Valles Marineris Hemisphere\", \"img_url\" : \"https://astropedia.astrogeology.usgs.gov/download/Mars/Viking/valles_marineris_enhanced.tif/full.jpg\"}    \n",
    "]"
   ]
  }
 ],
 "metadata": {
  "kernelspec": {
   "display_name": "Python 3",
   "language": "python",
   "name": "python3"
  },
  "language_info": {
   "codemirror_mode": {
    "name": "ipython",
    "version": 3
   },
   "file_extension": ".py",
   "mimetype": "text/x-python",
   "name": "python",
   "nbconvert_exporter": "python",
   "pygments_lexer": "ipython3",
   "version": "3.7.3"
  }
 },
 "nbformat": 4,
 "nbformat_minor": 2
}
